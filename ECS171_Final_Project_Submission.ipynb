{
  "cells": [
    {
      "cell_type": "code",
      "execution_count": null,
      "metadata": {
        "id": "y_PoQkItBzDa"
      },
      "outputs": [],
      "source": [
        "import matplotlib.pyplot as plt\n",
        "import matplotlib.image as mpimg\n",
        "import numpy as np\n",
        "import pandas as pd\n",
        "import os\n",
        "from PIL import Image\n",
        "from sklearn.utils import shuffle\n",
        "import tensorflow as tf\n",
        "\n",
        "from tensorflow import keras\n",
        "from tensorflow.keras import layers\n",
        "from tensorflow.keras.models import Sequential"
      ]
    },
    {
      "cell_type": "markdown",
      "metadata": {
        "id": "lIY_Xi0MCTga"
      },
      "source": [
        "Data Exploration"
      ]
    },
    {
      "cell_type": "code",
      "execution_count": null,
      "metadata": {
        "id": "RMgAS1CWCVgA"
      },
      "outputs": [],
      "source": [
        "# download dataset\n",
        "# reference: https://www.analyticsvidhya.com/blog/2021/06/how-to-load-kaggle-datasets-directly-into-google-colab/\n",
        "# NOTE: Need to upload kaggle.json file manually if it does not exist in Files (Google Colab)\n",
        "\n",
        "!pip install -q kaggle\n",
        "!mkdir ~/.kaggle\n",
        "!cp kaggle.json ~/.kaggle/\n",
        "!chmod 600 ~/.kaggle/kaggle.json\n",
        "!kaggle datasets download ashishjangra27/face-mask-12k-images-dataset\n",
        "!unzip face-mask-12k-images-dataset.zip"
      ]
    },
    {
      "cell_type": "code",
      "execution_count": null,
      "metadata": {
        "colab": {
          "base_uri": "https://localhost:8080/"
        },
        "id": "yS1Nj917Cvnm",
        "outputId": "57b2453d-6321-4191-9e20-3ae7fec3e076"
      },
      "outputs": [
        {
          "output_type": "stream",
          "name": "stdout",
          "text": [
            "Total images: 11792\n",
            "Image sizes (Width, Height): {(53, 53), (45, 45), (58, 58), (111, 111), (133, 133), (123, 123), (50, 50), (66, 66), (330, 330), (129, 129), (127, 127), (90, 90), (38, 38), (89, 89), (39, 39), (179, 179), (93, 93), (35, 35), (101, 101), (27, 27), (155, 155), (42, 42), (28, 28), (36, 36), (137, 137), (119, 119), (284, 284), (74, 74), (82, 82), (98, 98), (30, 30), (46, 46), (338, 338), (158, 158), (31, 31), (97, 97), (81, 81), (47, 47), (224, 224), (32, 32), (107, 107), (115, 115), (141, 141), (71, 71), (121, 121), (135, 135), (120, 120), (125, 125), (67, 67), (131, 131), (124, 124), (132, 132), (126, 126), (130, 130), (113, 113), (79, 79), (143, 143), (128, 128), (112, 112), (25, 25), (29, 29), (37, 37), (118, 118), (138, 138), (105, 105), (87, 87), (151, 151), (104, 104), (136, 136), (33, 33), (109, 109), (83, 83), (117, 117), (147, 147), (75, 75), (173, 173), (148, 148), (108, 108), (116, 116), (139, 139), (70, 70), (140, 140), (56, 56), (69, 69), (59, 59), (307, 307), (60, 60), (68, 68), (62, 62), (78, 78), (178, 178), (65, 65), (63, 63), (48, 48), (64, 64), (26, 26), (102, 102), (88, 88), (152, 152), (86, 86), (54, 54), (170, 170), (92, 92), (100, 100), (73, 73), (55, 55), (156, 156), (168, 168), (72, 72), (40, 40), (146, 146), (110, 110), (34, 34), (94, 94), (80, 80), (96, 96), (85, 85), (51, 51), (43, 43), (122, 122), (77, 77), (299, 299), (44, 44), (52, 52), (76, 76), (84, 84), (57, 57), (134, 134), (145, 145), (61, 61), (114, 114), (142, 142), (49, 49), (103, 103), (153, 153), (99, 99), (91, 91), (106, 106), (150, 150), (563, 563), (41, 41), (95, 95)}\n"
          ]
        }
      ],
      "source": [
        "# check how many images and their sizes\n",
        "\n",
        "# obtain paths\n",
        "test_mask_path = './Face Mask Dataset/Test/WithMask'\n",
        "test_nomask_path = './Face Mask Dataset/Test/WithoutMask'\n",
        "train_mask_path = './Face Mask Dataset/Train/WithMask'\n",
        "train_nomask_path = './Face Mask Dataset/Train/WithoutMask'\n",
        "val_mask_path ='./Face Mask Dataset/Validation/WithMask'\n",
        "val_nomask_path = './Face Mask Dataset/Validation/WithoutMask'\n",
        "\n",
        "# os.listdir gets all files in a given path\n",
        "image_count = 0\n",
        "image_sizes = set()\n",
        "paths_list = [test_mask_path, test_nomask_path, train_mask_path, train_nomask_path, val_mask_path, val_nomask_path]\n",
        "\n",
        "#function to add width and height to image_sizes set\n",
        "#and returns the number of images\n",
        "def checkImages(path, image_sizes):\n",
        "  count = 0\n",
        "  for i in os.listdir(path):\n",
        "    count += 1\n",
        "    im = Image.open(os.path.abspath(path + \"/\" + i))\n",
        "    width, height = im.size\n",
        "    image_sizes.add((width, height))\n",
        "  return count\n",
        "\n",
        "for path in paths_list:\n",
        "  image_count += checkImages(path, image_sizes)\n",
        "\n",
        "print(\"Total images:\", image_count)\n",
        "print(\"Image sizes (Width, Height):\", image_sizes)"
      ]
    },
    {
      "cell_type": "code",
      "execution_count": null,
      "metadata": {
        "id": "08f6K15KC60z",
        "colab": {
          "base_uri": "https://localhost:8080/",
          "height": 279
        },
        "outputId": "80bd4d39-ec75-48a1-e03b-0fa90d88d139"
      },
      "outputs": [
        {
          "output_type": "display_data",
          "data": {
            "text/plain": [
              "<PIL.PngImagePlugin.PngImageFile image mode=RGB size=168x168 at 0x7F8A5908BDD0>"
            ],
            "image/png": "[encoded data removed]"
          },
          "metadata": {}
        },
        {
          "output_type": "display_data",
          "data": {
            "text/plain": [
              "<PIL.PngImagePlugin.PngImageFile image mode=RGB size=94x94 at 0x7F8A59091910>"
            ],
            "image/png": "[encoded data removed]"
          },
          "metadata": {}
        }
      ],
      "source": [
        "# view some example images\n",
        "mask_im = Image.open(os.path.abspath(test_mask_path + \"/1174.png\"))\n",
        "nomask_im = Image.open(os.path.abspath(test_nomask_path + \"/3006.png\"))\n",
        "display(mask_im)\n",
        "display(nomask_im)"
      ]
    },
    {
      "cell_type": "code",
      "execution_count": null,
      "metadata": {
        "id": "jiruo74REYQ0",
        "colab": {
          "base_uri": "https://localhost:8080/"
        },
        "outputId": "b1d74340-19d7-4128-8120-cc74d8126993"
      },
      "outputs": [
        {
          "output_type": "stream",
          "name": "stdout",
          "text": [
            "['Masked', 'Not masked']\n"
          ]
        }
      ],
      "source": [
        "# class names\n",
        "class_names = ['Masked', 'Not masked']\n",
        "print(class_names)"
      ]
    },
    {
      "cell_type": "code",
      "execution_count": null,
      "metadata": {
        "id": "2P4ya7iO27Ve"
      },
      "outputs": [],
      "source": [
        "from tensorflow.keras.preprocessing.image import img_to_array\n",
        "\n",
        "def SetUpData(mask_path):\n",
        "  mask_list = []\n",
        "  mask_labels = []\n",
        "  for i in os.listdir(mask_path):\n",
        "    im = Image.open(os.path.abspath(mask_path + \"/\" + i))\n",
        "    width, height = im.size\n",
        "    if width >= 100 and height >= 100:\n",
        "      im = im.resize((100, 100))\n",
        "      # convert to numpy array\n",
        "      im = img_to_array(im)\n",
        "      mask_list.append(im)\n",
        "\n",
        "      append_label_value = -1\n",
        "      if 'WithoutMask' in mask_path:\n",
        "        append_label_value = 0\n",
        "      else:\n",
        "        append_label_value = 1\n",
        "      # -1 means error\n",
        "      #1 for mask\n",
        "      #0 for no mask\n",
        "      mask_labels.append(append_label_value)\n",
        "  return mask_list, mask_labels\n",
        "\n",
        "\n",
        "# set up data for training mask data\n",
        "# establish dataframe containing masked images and their targets\n",
        "train_mask_df = pd.DataFrame()\n",
        "train_mask_df['image'], train_mask_df['target'] = SetUpData(train_mask_path)\n",
        "\n",
        "\n",
        "# set up data for training nonmask data\n",
        "# establish dataframe containing nonmasked images and their targets\n",
        "train_nomask_df = pd.DataFrame()\n",
        "train_nomask_df['image'], train_nomask_df['target'] = SetUpData(train_nomask_path)\n",
        "\n",
        "\n",
        "# combine separate training dataframes and shuffle\n",
        "train_df = pd.concat([train_mask_df, train_nomask_df])\n",
        "train_df = shuffle(train_df)\n",
        "\n",
        "\n",
        "# set up data for testing mask data\n",
        "# establish dataframe containing masked images and their targets\n",
        "test_mask_df = pd.DataFrame()\n",
        "test_mask_df['image'], test_mask_df['target'] = SetUpData(test_mask_path)\n",
        "\n",
        "\n",
        "# set up data for testing nomask data\n",
        "# establish dataframe containing nonmasked images and their targets\n",
        "test_nomask_df = pd.DataFrame()\n",
        "test_nomask_df['image'], test_nomask_df['target'] = SetUpData(test_nomask_path)\n",
        "\n",
        "\n",
        "# combine separate testing dataframes and shuffle\n",
        "test_df = pd.concat([test_mask_df, test_nomask_df])\n",
        "test_df = shuffle(test_df)"
      ]
    },
    {
      "cell_type": "code",
      "source": [
        "train_df"
      ],
      "metadata": {
        "id": "xsbj3cryE2dS",
        "colab": {
          "base_uri": "https://localhost:8080/",
          "height": 424
        },
        "outputId": "f83dc090-989c-4a70-9e45-fea85d62fc79"
      },
      "execution_count": null,
      "outputs": [
        {
          "output_type": "execute_result",
          "data": {
            "text/plain": [
              "                                                  image  target\n",
              "3640  [[[131.0, 168.0, 194.0], [131.0, 168.0, 194.0]...       1\n",
              "2290  [[[202.0, 172.0, 175.0], [202.0, 178.0, 182.0]...       0\n",
              "4370  [[[255.0, 255.0, 255.0], [255.0, 255.0, 255.0]...       1\n",
              "1693  [[[129.0, 111.0, 78.0], [108.0, 91.0, 61.0], [...       0\n",
              "1829  [[[77.0, 50.0, 29.0], [76.0, 48.0, 27.0], [75....       1\n",
              "...                                                 ...     ...\n",
              "2010  [[[100.0, 96.0, 104.0], [101.0, 96.0, 104.0], ...       1\n",
              "1347  [[[209.0, 205.0, 193.0], [128.0, 122.0, 108.0]...       0\n",
              "1262  [[[171.0, 104.0, 52.0], [170.0, 102.0, 52.0], ...       1\n",
              "1640  [[[107.0, 100.0, 89.0], [96.0, 89.0, 76.0], [7...       1\n",
              "3393  [[[49.0, 50.0, 44.0], [50.0, 51.0, 46.0], [51....       1\n",
              "\n",
              "[8020 rows x 2 columns]"
            ],
            "text/html": [
              "\n",
              "  <div id=\"df-6de7b7a7-f8b0-4dd5-88a6-a17dca0cdaa1\">\n",
              "    <div class=\"colab-df-container\">\n",
              "      <div>\n",
              "<style scoped>\n",
              "    .dataframe tbody tr th:only-of-type {\n",
              "        vertical-align: middle;\n",
              "    }\n",
              "\n",
              "    .dataframe tbody tr th {\n",
              "        vertical-align: top;\n",
              "    }\n",
              "\n",
              "    .dataframe thead th {\n",
              "        text-align: right;\n",
              "    }\n",
              "</style>\n",
              "<table border=\"1\" class=\"dataframe\">\n",
              "  <thead>\n",
              "    <tr style=\"text-align: right;\">\n",
              "      <th></th>\n",
              "      <th>image</th>\n",
              "      <th>target</th>\n",
              "    </tr>\n",
              "  </thead>\n",
              "  <tbody>\n",
              "    <tr>\n",
              "      <th>3640</th>\n",
              "      <td>[[[131.0, 168.0, 194.0], [131.0, 168.0, 194.0]...</td>\n",
              "      <td>1</td>\n",
              "    </tr>\n",
              "    <tr>\n",
              "      <th>2290</th>\n",
              "      <td>[[[202.0, 172.0, 175.0], [202.0, 178.0, 182.0]...</td>\n",
              "      <td>0</td>\n",
              "    </tr>\n",
              "    <tr>\n",
              "      <th>4370</th>\n",
              "      <td>[[[255.0, 255.0, 255.0], [255.0, 255.0, 255.0]...</td>\n",
              "      <td>1</td>\n",
              "    </tr>\n",
              "    <tr>\n",
              "      <th>1693</th>\n",
              "      <td>[[[129.0, 111.0, 78.0], [108.0, 91.0, 61.0], [...</td>\n",
              "      <td>0</td>\n",
              "    </tr>\n",
              "    <tr>\n",
              "      <th>1829</th>\n",
              "      <td>[[[77.0, 50.0, 29.0], [76.0, 48.0, 27.0], [75....</td>\n",
              "      <td>1</td>\n",
              "    </tr>\n",
              "    <tr>\n",
              "      <th>...</th>\n",
              "      <td>...</td>\n",
              "      <td>...</td>\n",
              "    </tr>\n",
              "    <tr>\n",
              "      <th>2010</th>\n",
              "      <td>[[[100.0, 96.0, 104.0], [101.0, 96.0, 104.0], ...</td>\n",
              "      <td>1</td>\n",
              "    </tr>\n",
              "    <tr>\n",
              "      <th>1347</th>\n",
              "      <td>[[[209.0, 205.0, 193.0], [128.0, 122.0, 108.0]...</td>\n",
              "      <td>0</td>\n",
              "    </tr>\n",
              "    <tr>\n",
              "      <th>1262</th>\n",
              "      <td>[[[171.0, 104.0, 52.0], [170.0, 102.0, 52.0], ...</td>\n",
              "      <td>1</td>\n",
              "    </tr>\n",
              "    <tr>\n",
              "      <th>1640</th>\n",
              "      <td>[[[107.0, 100.0, 89.0], [96.0, 89.0, 76.0], [7...</td>\n",
              "      <td>1</td>\n",
              "    </tr>\n",
              "    <tr>\n",
              "      <th>3393</th>\n",
              "      <td>[[[49.0, 50.0, 44.0], [50.0, 51.0, 46.0], [51....</td>\n",
              "      <td>1</td>\n",
              "    </tr>\n",
              "  </tbody>\n",
              "</table>\n",
              "<p>8020 rows × 2 columns</p>\n",
              "</div>\n",
              "      <button class=\"colab-df-convert\" onclick=\"convertToInteractive('df-6de7b7a7-f8b0-4dd5-88a6-a17dca0cdaa1')\"\n",
              "              title=\"Convert this dataframe to an interactive table.\"\n",
              "              style=\"display:none;\">\n",
              "        \n",
              "  <svg xmlns=\"http://www.w3.org/2000/svg\" height=\"24px\"viewBox=\"0 0 24 24\"\n",
              "       width=\"24px\">\n",
              "    <path d=\"M0 0h24v24H0V0z\" fill=\"none\"/>\n",
              "    <path d=\"M18.56 5.44l.94 2.06.94-2.06 2.06-.94-2.06-.94-.94-2.06-.94 2.06-2.06.94zm-11 1L8.5 8.5l.94-2.06 2.06-.94-2.06-.94L8.5 2.5l-.94 2.06-2.06.94zm10 10l.94 2.06.94-2.06 2.06-.94-2.06-.94-.94-2.06-.94 2.06-2.06.94z\"/><path d=\"M17.41 7.96l-1.37-1.37c-.4-.4-.92-.59-1.43-.59-.52 0-1.04.2-1.43.59L10.3 9.45l-7.72 7.72c-.78.78-.78 2.05 0 2.83L4 21.41c.39.39.9.59 1.41.59.51 0 1.02-.2 1.41-.59l7.78-7.78 2.81-2.81c.8-.78.8-2.07 0-2.86zM5.41 20L4 18.59l7.72-7.72 1.47 1.35L5.41 20z\"/>\n",
              "  </svg>\n",
              "      </button>\n",
              "      \n",
              "  <style>\n",
              "    .colab-df-container {\n",
              "      display:flex;\n",
              "      flex-wrap:wrap;\n",
              "      gap: 12px;\n",
              "    }\n",
              "\n",
              "    .colab-df-convert {\n",
              "      background-color: #E8F0FE;\n",
              "      border: none;\n",
              "      border-radius: 50%;\n",
              "      cursor: pointer;\n",
              "      display: none;\n",
              "      fill: #1967D2;\n",
              "      height: 32px;\n",
              "      padding: 0 0 0 0;\n",
              "      width: 32px;\n",
              "    }\n",
              "\n",
              "    .colab-df-convert:hover {\n",
              "      background-color: #E2EBFA;\n",
              "      box-shadow: 0px 1px 2px rgba(60, 64, 67, 0.3), 0px 1px 3px 1px rgba(60, 64, 67, 0.15);\n",
              "      fill: #174EA6;\n",
              "    }\n",
              "\n",
              "    [theme=dark] .colab-df-convert {\n",
              "      background-color: #3B4455;\n",
              "      fill: #D2E3FC;\n",
              "    }\n",
              "\n",
              "    [theme=dark] .colab-df-convert:hover {\n",
              "      background-color: #434B5C;\n",
              "      box-shadow: 0px 1px 3px 1px rgba(0, 0, 0, 0.15);\n",
              "      filter: drop-shadow(0px 1px 2px rgba(0, 0, 0, 0.3));\n",
              "      fill: #FFFFFF;\n",
              "    }\n",
              "  </style>\n",
              "\n",
              "      <script>\n",
              "        const buttonEl =\n",
              "          document.querySelector('#df-6de7b7a7-f8b0-4dd5-88a6-a17dca0cdaa1 button.colab-df-convert');\n",
              "        buttonEl.style.display =\n",
              "          google.colab.kernel.accessAllowed ? 'block' : 'none';\n",
              "\n",
              "        async function convertToInteractive(key) {\n",
              "          const element = document.querySelector('#df-6de7b7a7-f8b0-4dd5-88a6-a17dca0cdaa1');\n",
              "          const dataTable =\n",
              "            await google.colab.kernel.invokeFunction('convertToInteractive',\n",
              "                                                     [key], {});\n",
              "          if (!dataTable) return;\n",
              "\n",
              "          const docLinkHtml = 'Like what you see? Visit the ' +\n",
              "            '<a target=\"_blank\" href=https://colab.research.google.com/notebooks/data_table.ipynb>data table notebook</a>'\n",
              "            + ' to learn more about interactive tables.';\n",
              "          element.innerHTML = '';\n",
              "          dataTable['output_type'] = 'display_data';\n",
              "          await google.colab.output.renderOutput(dataTable, element);\n",
              "          const docLink = document.createElement('div');\n",
              "          docLink.innerHTML = docLinkHtml;\n",
              "          element.appendChild(docLink);\n",
              "        }\n",
              "      </script>\n",
              "    </div>\n",
              "  </div>\n",
              "  "
            ]
          },
          "metadata": {},
          "execution_count": 7
        }
      ]
    },
    {
      "cell_type": "code",
      "source": [
        "test_df"
      ],
      "metadata": {
        "id": "4UUaEmJfFEPp",
        "colab": {
          "base_uri": "https://localhost:8080/",
          "height": 424
        },
        "outputId": "fcddd44a-e2fe-4cfd-b41e-2bfd984b3ef8"
      },
      "execution_count": null,
      "outputs": [
        {
          "output_type": "execute_result",
          "data": {
            "text/plain": [
              "                                                 image  target\n",
              "32   [[[31.0, 21.0, 11.0], [20.0, 10.0, 1.0], [16.0...       0\n",
              "104  [[[55.0, 90.0, 90.0], [2.0, 19.0, 23.0], [8.0,...       1\n",
              "321  [[[142.0, 111.0, 67.0], [119.0, 88.0, 44.0], [...       0\n",
              "40   [[[136.0, 102.0, 103.0], [137.0, 103.0, 104.0]...       1\n",
              "385  [[[32.0, 16.0, 2.0], [36.0, 18.0, 6.0], [43.0,...       1\n",
              "..                                                 ...     ...\n",
              "304  [[[67.0, 45.0, 25.0], [67.0, 45.0, 25.0], [67....       1\n",
              "356  [[[191.0, 192.0, 192.0], [191.0, 192.0, 192.0]...       1\n",
              "48   [[[132.0, 114.0, 93.0], [133.0, 115.0, 95.0], ...       1\n",
              "24   [[[17.0, 17.0, 17.0], [17.0, 16.0, 16.0], [19....       1\n",
              "38   [[[41.0, 25.0, 25.0], [52.0, 25.0, 25.0], [51....       1\n",
              "\n",
              "[799 rows x 2 columns]"
            ],
            "text/html": [
              "\n",
              "  <div id=\"df-9bad8206-8528-41eb-a42a-40ecea0c3888\">\n",
              "    <div class=\"colab-df-container\">\n",
              "      <div>\n",
              "<style scoped>\n",
              "    .dataframe tbody tr th:only-of-type {\n",
              "        vertical-align: middle;\n",
              "    }\n",
              "\n",
              "    .dataframe tbody tr th {\n",
              "        vertical-align: top;\n",
              "    }\n",
              "\n",
              "    .dataframe thead th {\n",
              "        text-align: right;\n",
              "    }\n",
              "</style>\n",
              "<table border=\"1\" class=\"dataframe\">\n",
              "  <thead>\n",
              "    <tr style=\"text-align: right;\">\n",
              "      <th></th>\n",
              "      <th>image</th>\n",
              "      <th>target</th>\n",
              "    </tr>\n",
              "  </thead>\n",
              "  <tbody>\n",
              "    <tr>\n",
              "      <th>32</th>\n",
              "      <td>[[[31.0, 21.0, 11.0], [20.0, 10.0, 1.0], [16.0...</td>\n",
              "      <td>0</td>\n",
              "    </tr>\n",
              "    <tr>\n",
              "      <th>104</th>\n",
              "      <td>[[[55.0, 90.0, 90.0], [2.0, 19.0, 23.0], [8.0,...</td>\n",
              "      <td>1</td>\n",
              "    </tr>\n",
              "    <tr>\n",
              "      <th>321</th>\n",
              "      <td>[[[142.0, 111.0, 67.0], [119.0, 88.0, 44.0], [...</td>\n",
              "      <td>0</td>\n",
              "    </tr>\n",
              "    <tr>\n",
              "      <th>40</th>\n",
              "      <td>[[[136.0, 102.0, 103.0], [137.0, 103.0, 104.0]...</td>\n",
              "      <td>1</td>\n",
              "    </tr>\n",
              "    <tr>\n",
              "      <th>385</th>\n",
              "      <td>[[[32.0, 16.0, 2.0], [36.0, 18.0, 6.0], [43.0,...</td>\n",
              "      <td>1</td>\n",
              "    </tr>\n",
              "    <tr>\n",
              "      <th>...</th>\n",
              "      <td>...</td>\n",
              "      <td>...</td>\n",
              "    </tr>\n",
              "    <tr>\n",
              "      <th>304</th>\n",
              "      <td>[[[67.0, 45.0, 25.0], [67.0, 45.0, 25.0], [67....</td>\n",
              "      <td>1</td>\n",
              "    </tr>\n",
              "    <tr>\n",
              "      <th>356</th>\n",
              "      <td>[[[191.0, 192.0, 192.0], [191.0, 192.0, 192.0]...</td>\n",
              "      <td>1</td>\n",
              "    </tr>\n",
              "    <tr>\n",
              "      <th>48</th>\n",
              "      <td>[[[132.0, 114.0, 93.0], [133.0, 115.0, 95.0], ...</td>\n",
              "      <td>1</td>\n",
              "    </tr>\n",
              "    <tr>\n",
              "      <th>24</th>\n",
              "      <td>[[[17.0, 17.0, 17.0], [17.0, 16.0, 16.0], [19....</td>\n",
              "      <td>1</td>\n",
              "    </tr>\n",
              "    <tr>\n",
              "      <th>38</th>\n",
              "      <td>[[[41.0, 25.0, 25.0], [52.0, 25.0, 25.0], [51....</td>\n",
              "      <td>1</td>\n",
              "    </tr>\n",
              "  </tbody>\n",
              "</table>\n",
              "<p>799 rows × 2 columns</p>\n",
              "</div>\n",
              "      <button class=\"colab-df-convert\" onclick=\"convertToInteractive('df-9bad8206-8528-41eb-a42a-40ecea0c3888')\"\n",
              "              title=\"Convert this dataframe to an interactive table.\"\n",
              "              style=\"display:none;\">\n",
              "        \n",
              "  <svg xmlns=\"http://www.w3.org/2000/svg\" height=\"24px\"viewBox=\"0 0 24 24\"\n",
              "       width=\"24px\">\n",
              "    <path d=\"M0 0h24v24H0V0z\" fill=\"none\"/>\n",
              "    <path d=\"M18.56 5.44l.94 2.06.94-2.06 2.06-.94-2.06-.94-.94-2.06-.94 2.06-2.06.94zm-11 1L8.5 8.5l.94-2.06 2.06-.94-2.06-.94L8.5 2.5l-.94 2.06-2.06.94zm10 10l.94 2.06.94-2.06 2.06-.94-2.06-.94-.94-2.06-.94 2.06-2.06.94z\"/><path d=\"M17.41 7.96l-1.37-1.37c-.4-.4-.92-.59-1.43-.59-.52 0-1.04.2-1.43.59L10.3 9.45l-7.72 7.72c-.78.78-.78 2.05 0 2.83L4 21.41c.39.39.9.59 1.41.59.51 0 1.02-.2 1.41-.59l7.78-7.78 2.81-2.81c.8-.78.8-2.07 0-2.86zM5.41 20L4 18.59l7.72-7.72 1.47 1.35L5.41 20z\"/>\n",
              "  </svg>\n",
              "      </button>\n",
              "      \n",
              "  <style>\n",
              "    .colab-df-container {\n",
              "      display:flex;\n",
              "      flex-wrap:wrap;\n",
              "      gap: 12px;\n",
              "    }\n",
              "\n",
              "    .colab-df-convert {\n",
              "      background-color: #E8F0FE;\n",
              "      border: none;\n",
              "      border-radius: 50%;\n",
              "      cursor: pointer;\n",
              "      display: none;\n",
              "      fill: #1967D2;\n",
              "      height: 32px;\n",
              "      padding: 0 0 0 0;\n",
              "      width: 32px;\n",
              "    }\n",
              "\n",
              "    .colab-df-convert:hover {\n",
              "      background-color: #E2EBFA;\n",
              "      box-shadow: 0px 1px 2px rgba(60, 64, 67, 0.3), 0px 1px 3px 1px rgba(60, 64, 67, 0.15);\n",
              "      fill: #174EA6;\n",
              "    }\n",
              "\n",
              "    [theme=dark] .colab-df-convert {\n",
              "      background-color: #3B4455;\n",
              "      fill: #D2E3FC;\n",
              "    }\n",
              "\n",
              "    [theme=dark] .colab-df-convert:hover {\n",
              "      background-color: #434B5C;\n",
              "      box-shadow: 0px 1px 3px 1px rgba(0, 0, 0, 0.15);\n",
              "      filter: drop-shadow(0px 1px 2px rgba(0, 0, 0, 0.3));\n",
              "      fill: #FFFFFF;\n",
              "    }\n",
              "  </style>\n",
              "\n",
              "      <script>\n",
              "        const buttonEl =\n",
              "          document.querySelector('#df-9bad8206-8528-41eb-a42a-40ecea0c3888 button.colab-df-convert');\n",
              "        buttonEl.style.display =\n",
              "          google.colab.kernel.accessAllowed ? 'block' : 'none';\n",
              "\n",
              "        async function convertToInteractive(key) {\n",
              "          const element = document.querySelector('#df-9bad8206-8528-41eb-a42a-40ecea0c3888');\n",
              "          const dataTable =\n",
              "            await google.colab.kernel.invokeFunction('convertToInteractive',\n",
              "                                                     [key], {});\n",
              "          if (!dataTable) return;\n",
              "\n",
              "          const docLinkHtml = 'Like what you see? Visit the ' +\n",
              "            '<a target=\"_blank\" href=https://colab.research.google.com/notebooks/data_table.ipynb>data table notebook</a>'\n",
              "            + ' to learn more about interactive tables.';\n",
              "          element.innerHTML = '';\n",
              "          dataTable['output_type'] = 'display_data';\n",
              "          await google.colab.output.renderOutput(dataTable, element);\n",
              "          const docLink = document.createElement('div');\n",
              "          docLink.innerHTML = docLinkHtml;\n",
              "          element.appendChild(docLink);\n",
              "        }\n",
              "      </script>\n",
              "    </div>\n",
              "  </div>\n",
              "  "
            ]
          },
          "metadata": {},
          "execution_count": 8
        }
      ]
    },
    {
      "cell_type": "code",
      "execution_count": null,
      "metadata": {
        "id": "DajuyY7pqZl7"
      },
      "outputs": [],
      "source": [
        "# creating the model\n",
        "train_model = Sequential([\n",
        "  layers.Rescaling(1./255, input_shape=(100, 100, 3)),\n",
        "  layers.Conv2D(16, 3, padding='same', activation='relu'),\n",
        "  layers.MaxPooling2D(),\n",
        "  layers.Conv2D(32, 3, padding='same', activation='relu'),\n",
        "  layers.MaxPooling2D(),\n",
        "  layers.Conv2D(64, 3, padding='same', activation='relu'),\n",
        "  layers.MaxPooling2D(),\n",
        "  layers.Flatten(),\n",
        "  layers.Dense(128, activation='relu'),\n",
        "  layers.Dense(1, activation='sigmoid'),\n",
        "])"
      ]
    },
    {
      "cell_type": "code",
      "source": [
        "# creating second model\n",
        "train_model_2 = Sequential([\n",
        "    layers.Rescaling(1./255, input_shape=(100,100,3)),\n",
        "    layers.Conv2D(128, 3, padding='same', activation='relu'),\n",
        "    layers.MaxPooling2D(),\n",
        "    layers.Conv2D(32, 3, padding='same', activation='relu'),\n",
        "    layers.MaxPooling2D(),\n",
        "    layers.Flatten(),\n",
        "    layers.Dense(16, activation='relu'),\n",
        "    layers.Dense(1, activation='softmax')\n",
        "])"
      ],
      "metadata": {
        "id": "DwHiVtrvCxQV"
      },
      "execution_count": null,
      "outputs": []
    },
    {
      "cell_type": "code",
      "execution_count": null,
      "metadata": {
        "id": "qnONIq8OJZra"
      },
      "outputs": [],
      "source": [
        "# compiling the model\n",
        "train_model.compile(optimizer='adam',\n",
        "              loss='binary_crossentropy',\n",
        "              metrics=['accuracy'])"
      ]
    },
    {
      "cell_type": "code",
      "source": [
        "# compiling second model\n",
        "train_model_2.compile(optimizer='adam', loss='binary_crossentropy', metrics=['accuracy'])"
      ],
      "metadata": {
        "id": "hEsV5CAHDX_c"
      },
      "execution_count": null,
      "outputs": []
    },
    {
      "cell_type": "code",
      "execution_count": null,
      "metadata": {
        "id": "IH4svrINJm84",
        "colab": {
          "base_uri": "https://localhost:8080/"
        },
        "outputId": "efd74bcf-1abb-4486-e6a1-7e8c81e7b0e0"
      },
      "outputs": [
        {
          "output_type": "stream",
          "name": "stdout",
          "text": [
            "Model: \"sequential\"\n",
            "_________________________________________________________________\n",
            " Layer (type)                Output Shape              Param #   \n",
            "=================================================================\n",
            " rescaling (Rescaling)       (None, 100, 100, 3)       0         \n",
            "                                                                 \n",
            " conv2d (Conv2D)             (None, 100, 100, 16)      448       \n",
            "                                                                 \n",
            " max_pooling2d (MaxPooling2D  (None, 50, 50, 16)       0         \n",
            " )                                                               \n",
            "                                                                 \n",
            " conv2d_1 (Conv2D)           (None, 50, 50, 32)        4640      \n",
            "                                                                 \n",
            " max_pooling2d_1 (MaxPooling  (None, 25, 25, 32)       0         \n",
            " 2D)                                                             \n",
            "                                                                 \n",
            " conv2d_2 (Conv2D)           (None, 25, 25, 64)        18496     \n",
            "                                                                 \n",
            " max_pooling2d_2 (MaxPooling  (None, 12, 12, 64)       0         \n",
            " 2D)                                                             \n",
            "                                                                 \n",
            " flatten (Flatten)           (None, 9216)              0         \n",
            "                                                                 \n",
            " dense (Dense)               (None, 128)               1179776   \n",
            "                                                                 \n",
            " dense_1 (Dense)             (None, 1)                 129       \n",
            "                                                                 \n",
            "=================================================================\n",
            "Total params: 1,203,489\n",
            "Trainable params: 1,203,489\n",
            "Non-trainable params: 0\n",
            "_________________________________________________________________\n"
          ]
        }
      ],
      "source": [
        "train_model.summary()"
      ]
    },
    {
      "cell_type": "code",
      "source": [
        "train_model_2.summary()"
      ],
      "metadata": {
        "colab": {
          "base_uri": "https://localhost:8080/"
        },
        "id": "wQoCzXkFDhHM",
        "outputId": "1a1d31f7-8294-4899-b198-de8cc187f96c"
      },
      "execution_count": null,
      "outputs": [
        {
          "output_type": "stream",
          "name": "stdout",
          "text": [
            "Model: \"sequential_2\"\n",
            "_________________________________________________________________\n",
            " Layer (type)                Output Shape              Param #   \n",
            "=================================================================\n",
            " rescaling_2 (Rescaling)     (None, 100, 100, 3)       0         \n",
            "                                                                 \n",
            " conv2d_5 (Conv2D)           (None, 100, 100, 128)     3584      \n",
            "                                                                 \n",
            " max_pooling2d_5 (MaxPooling  (None, 50, 50, 128)      0         \n",
            " 2D)                                                             \n",
            "                                                                 \n",
            " conv2d_6 (Conv2D)           (None, 50, 50, 32)        36896     \n",
            "                                                                 \n",
            " max_pooling2d_6 (MaxPooling  (None, 25, 25, 32)       0         \n",
            " 2D)                                                             \n",
            "                                                                 \n",
            " flatten_2 (Flatten)         (None, 20000)             0         \n",
            "                                                                 \n",
            " dense_4 (Dense)             (None, 16)                320016    \n",
            "                                                                 \n",
            " dense_5 (Dense)             (None, 1)                 17        \n",
            "                                                                 \n",
            "=================================================================\n",
            "Total params: 360,513\n",
            "Trainable params: 360,513\n",
            "Non-trainable params: 0\n",
            "_________________________________________________________________\n"
          ]
        }
      ]
    },
    {
      "cell_type": "code",
      "source": [
        "train_image_array = np.stack(np.asarray(train_df[\"image\"]))\n",
        "test_image_array = np.stack(np.asarray(test_df[\"image\"]))\n",
        "train_target_array = np.asarray(train_df[\"target\"])\n",
        "test_target_array = np.asarray(test_df[\"target\"])"
      ],
      "metadata": {
        "id": "abzovF-pQSWD"
      },
      "execution_count": null,
      "outputs": []
    },
    {
      "cell_type": "code",
      "source": [
        "print(train_image_array.shape)"
      ],
      "metadata": {
        "id": "ICkQQDdyRUuJ",
        "colab": {
          "base_uri": "https://localhost:8080/"
        },
        "outputId": "e9b2ccca-85c5-4b38-afb6-5d756a06e751"
      },
      "execution_count": null,
      "outputs": [
        {
          "output_type": "stream",
          "name": "stdout",
          "text": [
            "(8020, 100, 100, 3)\n"
          ]
        }
      ]
    },
    {
      "cell_type": "code",
      "source": [
        "fitted_Model = train_model.fit(train_image_array, train_target_array, validation_split=0.15, batch_size=10, epochs=10)"
      ],
      "metadata": {
        "id": "wifz3SUA3GQl",
        "colab": {
          "base_uri": "https://localhost:8080/"
        },
        "outputId": "53577e21-ea96-41bc-d918-557a20ca4b1a"
      },
      "execution_count": null,
      "outputs": [
        {
          "output_type": "stream",
          "name": "stdout",
          "text": [
            "Epoch 1/10\n",
            "682/682 [==============================] - 129s 187ms/step - loss: 0.1309 - accuracy: 0.9514 - val_loss: 0.0356 - val_accuracy: 0.9875\n",
            "Epoch 2/10\n",
            "682/682 [==============================] - 114s 167ms/step - loss: 0.0410 - accuracy: 0.9864 - val_loss: 0.0502 - val_accuracy: 0.9817\n",
            "Epoch 3/10\n",
            "682/682 [==============================] - 92s 135ms/step - loss: 0.0335 - accuracy: 0.9886 - val_loss: 0.0265 - val_accuracy: 0.9892\n",
            "Epoch 4/10\n",
            "682/682 [==============================] - 114s 168ms/step - loss: 0.0300 - accuracy: 0.9902 - val_loss: 0.0582 - val_accuracy: 0.9800\n",
            "Epoch 5/10\n",
            "682/682 [==============================] - 87s 128ms/step - loss: 0.0199 - accuracy: 0.9924 - val_loss: 0.0365 - val_accuracy: 0.9859\n",
            "Epoch 6/10\n",
            "682/682 [==============================] - 85s 125ms/step - loss: 0.0186 - accuracy: 0.9927 - val_loss: 0.0262 - val_accuracy: 0.9925\n",
            "Epoch 7/10\n",
            "682/682 [==============================] - 86s 127ms/step - loss: 0.0171 - accuracy: 0.9934 - val_loss: 0.0357 - val_accuracy: 0.9875\n",
            "Epoch 8/10\n",
            "682/682 [==============================] - 86s 126ms/step - loss: 0.0125 - accuracy: 0.9959 - val_loss: 0.0209 - val_accuracy: 0.9909\n",
            "Epoch 9/10\n",
            "682/682 [==============================] - 87s 127ms/step - loss: 0.0062 - accuracy: 0.9982 - val_loss: 0.0684 - val_accuracy: 0.9784\n",
            "Epoch 10/10\n",
            "682/682 [==============================] - 86s 125ms/step - loss: 0.0199 - accuracy: 0.9930 - val_loss: 0.0310 - val_accuracy: 0.9909\n"
          ]
        }
      ]
    },
    {
      "cell_type": "code",
      "source": [
        "fitted_Model_2 = train_model_2.fit(train_image_array, train_target_array, validation_split=0.15, batch_size=10, epochs=10)"
      ],
      "metadata": {
        "colab": {
          "base_uri": "https://localhost:8080/"
        },
        "id": "cL4I4UmmDmbl",
        "outputId": "5d363aaf-10f8-415d-ec1c-99ad2f1d86d9"
      },
      "execution_count": null,
      "outputs": [
        {
          "output_type": "stream",
          "name": "stdout",
          "text": [
            "Epoch 1/10\n",
            "682/682 [==============================] - 307s 449ms/step - loss: 0.1836 - accuracy: 0.5502 - val_loss: 0.0622 - val_accuracy: 0.5470\n",
            "Epoch 2/10\n",
            "682/682 [==============================] - 306s 448ms/step - loss: 0.0415 - accuracy: 0.5502 - val_loss: 0.0496 - val_accuracy: 0.5470\n",
            "Epoch 3/10\n",
            "682/682 [==============================] - 304s 446ms/step - loss: 0.0274 - accuracy: 0.5502 - val_loss: 0.0504 - val_accuracy: 0.5470\n",
            "Epoch 4/10\n",
            "682/682 [==============================] - 302s 443ms/step - loss: 0.0322 - accuracy: 0.5502 - val_loss: 0.0617 - val_accuracy: 0.5470\n",
            "Epoch 5/10\n",
            "682/682 [==============================] - 303s 444ms/step - loss: 0.0224 - accuracy: 0.5502 - val_loss: 0.0341 - val_accuracy: 0.5470\n",
            "Epoch 6/10\n",
            "682/682 [==============================] - 305s 448ms/step - loss: 0.0153 - accuracy: 0.5502 - val_loss: 0.0524 - val_accuracy: 0.5470\n",
            "Epoch 7/10\n",
            "682/682 [==============================] - 307s 449ms/step - loss: 0.0115 - accuracy: 0.5502 - val_loss: 0.0278 - val_accuracy: 0.5470\n",
            "Epoch 8/10\n",
            "682/682 [==============================] - 306s 448ms/step - loss: 0.0243 - accuracy: 0.5502 - val_loss: 0.0391 - val_accuracy: 0.5470\n",
            "Epoch 9/10\n",
            "682/682 [==============================] - 305s 447ms/step - loss: 0.0082 - accuracy: 0.5502 - val_loss: 0.0415 - val_accuracy: 0.5470\n",
            "Epoch 10/10\n",
            "682/682 [==============================] - 306s 449ms/step - loss: 0.0072 - accuracy: 0.5502 - val_loss: 0.0847 - val_accuracy: 0.5470\n"
          ]
        }
      ]
    },
    {
      "cell_type": "code",
      "execution_count": null,
      "metadata": {
        "id": "0VXY8CWvqbZD",
        "colab": {
          "base_uri": "https://localhost:8080/"
        },
        "outputId": "90a48c3a-c85c-4947-9894-f69a3495f552"
      },
      "outputs": [
        {
          "output_type": "stream",
          "name": "stdout",
          "text": [
            "251/251 [==============================] - 30s 118ms/step\n",
            "25/25 [==============================] - 3s 119ms/step\n",
            "251/251 [==============================] - 74s 294ms/step\n",
            "25/25 [==============================] - 7s 279ms/step\n",
            "Training performance of Model 1:\n",
            "               precision    recall  f1-score   support\n",
            "\n",
            "           0       1.00      1.00      1.00      3611\n",
            "           1       1.00      1.00      1.00      4409\n",
            "\n",
            "    accuracy                           1.00      8020\n",
            "   macro avg       1.00      1.00      1.00      8020\n",
            "weighted avg       1.00      1.00      1.00      8020\n",
            "\n",
            "Testing performance of Model 1:\n",
            "               precision    recall  f1-score   support\n",
            "\n",
            "           0       0.98      0.99      0.98       372\n",
            "           1       0.99      0.98      0.99       427\n",
            "\n",
            "    accuracy                           0.98       799\n",
            "   macro avg       0.98      0.99      0.98       799\n",
            "weighted avg       0.99      0.98      0.98       799\n",
            "\n",
            "Training performance of Model 2:\n",
            "               precision    recall  f1-score   support\n",
            "\n",
            "           0       0.00      0.00      0.00      3611\n",
            "           1       0.55      1.00      0.71      4409\n",
            "\n",
            "    accuracy                           0.55      8020\n",
            "   macro avg       0.27      0.50      0.35      8020\n",
            "weighted avg       0.30      0.55      0.39      8020\n",
            "\n",
            "Testing performance of Model 2:\n",
            "               precision    recall  f1-score   support\n",
            "\n",
            "           0       0.00      0.00      0.00       372\n",
            "           1       0.53      1.00      0.70       427\n",
            "\n",
            "    accuracy                           0.53       799\n",
            "   macro avg       0.27      0.50      0.35       799\n",
            "weighted avg       0.29      0.53      0.37       799\n",
            "\n"
          ]
        },
        {
          "output_type": "stream",
          "name": "stderr",
          "text": [
            "/usr/local/lib/python3.7/dist-packages/sklearn/metrics/_classification.py:1318: UndefinedMetricWarning: Precision and F-score are ill-defined and being set to 0.0 in labels with no predicted samples. Use `zero_division` parameter to control this behavior.\n",
            "  _warn_prf(average, modifier, msg_start, len(result))\n",
            "/usr/local/lib/python3.7/dist-packages/sklearn/metrics/_classification.py:1318: UndefinedMetricWarning: Precision and F-score are ill-defined and being set to 0.0 in labels with no predicted samples. Use `zero_division` parameter to control this behavior.\n",
            "  _warn_prf(average, modifier, msg_start, len(result))\n",
            "/usr/local/lib/python3.7/dist-packages/sklearn/metrics/_classification.py:1318: UndefinedMetricWarning: Precision and F-score are ill-defined and being set to 0.0 in labels with no predicted samples. Use `zero_division` parameter to control this behavior.\n",
            "  _warn_prf(average, modifier, msg_start, len(result))\n",
            "/usr/local/lib/python3.7/dist-packages/sklearn/metrics/_classification.py:1318: UndefinedMetricWarning: Precision and F-score are ill-defined and being set to 0.0 in labels with no predicted samples. Use `zero_division` parameter to control this behavior.\n",
            "  _warn_prf(average, modifier, msg_start, len(result))\n",
            "/usr/local/lib/python3.7/dist-packages/sklearn/metrics/_classification.py:1318: UndefinedMetricWarning: Precision and F-score are ill-defined and being set to 0.0 in labels with no predicted samples. Use `zero_division` parameter to control this behavior.\n",
            "  _warn_prf(average, modifier, msg_start, len(result))\n",
            "/usr/local/lib/python3.7/dist-packages/sklearn/metrics/_classification.py:1318: UndefinedMetricWarning: Precision and F-score are ill-defined and being set to 0.0 in labels with no predicted samples. Use `zero_division` parameter to control this behavior.\n",
            "  _warn_prf(average, modifier, msg_start, len(result))\n"
          ]
        }
      ],
      "source": [
        "## evaluate model to compare training vs. test error\n",
        "from sklearn.metrics import classification_report\n",
        "\n",
        "yhat_train = train_model.predict(train_image_array)\n",
        "yhat_train = [1 if y>=0.5 else 0 for y in yhat_train]\n",
        "yhat_test = train_model.predict(test_image_array)\n",
        "yhat_test = [1 if y>=0.5 else 0 for y in yhat_test]\n",
        "\n",
        "yhat_train2 = train_model_2.predict(train_image_array)\n",
        "yhat_train2 = [1 if y>=0.5 else 0 for y in yhat_train2]\n",
        "yhat_test2 = train_model_2.predict(test_image_array)\n",
        "yhat_test2 = [1 if y>=0.5 else 0 for y in yhat_test2]\n",
        "\n",
        "print(\"Training performance of Model 1:\\n %s\" % classification_report(train_target_array, yhat_train))\n",
        "\n",
        "print(\"Testing performance of Model 1:\\n %s\" % classification_report(test_target_array, yhat_test))\n",
        "\n",
        "print(\"Training performance of Model 2:\\n %s\" % classification_report(train_target_array, yhat_train2))\n",
        "\n",
        "print(\"Testing performance of Model 2:\\n %s\" % classification_report(test_target_array, yhat_test2))\n"
      ]
    },
    {
      "cell_type": "code",
      "source": [
        "# Evaluation Graph\n",
        "import matplotlib.pyplot as plt\n",
        "\n",
        "plt.plot(fitted_Model.history['accuracy'], label='accuracy')\n",
        "plt.plot(fitted_Model.history['val_accuracy'], label = 'val_accuracy')\n",
        "plt.xlabel('Epoch')\n",
        "plt.ylabel('Accuracy')\n",
        "plt.ylim([0.5, 1.5])\n",
        "plt.legend(loc='lower right')\n",
        "\n",
        "test_loss, test_acc = train_model.evaluate(test_image_array, test_target_array)"
      ],
      "metadata": {
        "id": "ObROKaAdK3JI",
        "colab": {
          "base_uri": "https://localhost:8080/",
          "height": 296
        },
        "outputId": "64e6bdb2-2393-41e2-f4fc-26e93830c732"
      },
      "execution_count": null,
      "outputs": [
        {
          "output_type": "stream",
          "name": "stdout",
          "text": [
            "25/25 [==============================] - 4s 179ms/step - loss: 0.0441 - accuracy: 0.9850\n"
          ]
        },
        {
          "output_type": "display_data",
          "data": {
            "text/plain": [
              "<Figure size 432x288 with 1 Axes>"
            ],
            "image/png": "[encoded data removed]"
          },
          "metadata": {
            "needs_background": "light"
          }
        }
      ]
    },
    {
      "cell_type": "code",
      "source": [
        "plt.plot(fitted_Model_2.history['accuracy'], label='accuracy')\n",
        "plt.plot(fitted_Model_2.history['val_accuracy'], label = 'val_accuracy')\n",
        "plt.xlabel('Epoch')\n",
        "plt.ylabel('Accuracy')\n",
        "plt.ylim([0, 1.5])\n",
        "plt.legend(loc='lower right')\n",
        "\n",
        "test_loss, test_acc = train_model_2.evaluate(test_image_array, test_target_array)"
      ],
      "metadata": {
        "colab": {
          "base_uri": "https://localhost:8080/",
          "height": 296
        },
        "id": "5JU2l_-kUZxz",
        "outputId": "fc471f7b-cad2-4b42-e8ff-0dedfac05adf"
      },
      "execution_count": null,
      "outputs": [
        {
          "output_type": "stream",
          "name": "stdout",
          "text": [
            "25/25 [==============================] - 7s 282ms/step - loss: 0.0871 - accuracy: 0.5344\n"
          ]
        },
        {
          "output_type": "display_data",
          "data": {
            "text/plain": [
              "<Figure size 432x288 with 1 Axes>"
            ],
            "image/png": "[encoded data removed]"
          },
          "metadata": {
            "needs_background": "light"
          }
        }
      ]
    }
  ],
  "metadata": {
    "colab": {
      "provenance": []
    },
    "kernelspec": {
      "display_name": "Python 3",
      "name": "python3"
    },
    "language_info": {
      "name": "python"
    }
  },
  "nbformat": 4,
  "nbformat_minor": 0
}