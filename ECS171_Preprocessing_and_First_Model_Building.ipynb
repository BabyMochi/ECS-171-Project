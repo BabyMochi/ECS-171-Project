{
  "cells": [
    {
      "cell_type": "code",
      "execution_count": 1,
      "metadata": {
        "id": "y_PoQkItBzDa"
      },
      "outputs": [],
      "source": [
        "import matplotlib.pyplot as plt\n",
        "import matplotlib.image as mpimg\n",
        "import numpy as np\n",
        "import pandas as pd\n",
        "import os\n",
        "from PIL import Image\n",
        "from sklearn.utils import shuffle\n",
        "import tensorflow as tf\n",
        "\n",
        "from tensorflow import keras\n",
        "from tensorflow.keras import layers\n",
        "from tensorflow.keras.models import Sequential"
      ]
    },
    {
      "cell_type": "markdown",
      "metadata": {
        "id": "lIY_Xi0MCTga"
      },
      "source": [
        "Data Exploration"
      ]
    },
    {
      "cell_type": "code",
      "execution_count": 2,
      "metadata": {
        "id": "RMgAS1CWCVgA",
        "colab": {
          "base_uri": "https://localhost:8080/"
        },
        "outputId": "8c411bf8-0d1f-4fc6-bbde-829232e438a5"
      },
      "outputs": [],
      "source": [
        "# download dataset\n",
        "# reference: https://www.analyticsvidhya.com/blog/2021/06/how-to-load-kaggle-datasets-directly-into-google-colab/\n",
        "# NOTE: Need to upload kaggle.json file manually if it does not exist in Files (Google Colab)\n",
        "\n",
        "!pip install -q kaggle\n",
        "!mkdir ~/.kaggle\n",
        "!cp kaggle.json ~/.kaggle/\n",
        "!chmod 600 ~/.kaggle/kaggle.json\n",
        "!kaggle datasets download ashishjangra27/face-mask-12k-images-dataset\n",
        "!unzip face-mask-12k-images-dataset.zip"
      ]
    },
    {
      "cell_type": "code",
      "execution_count": null,
      "metadata": {
        "id": "NUE6Jmzkf2sY"
      },
      "outputs": [],
      "source": [
        "#!kaggle datasets list"
      ]
    },
    {
      "cell_type": "code",
      "execution_count": 3,
      "metadata": {
        "colab": {
          "base_uri": "https://localhost:8080/"
        },
        "id": "yS1Nj917Cvnm",
        "outputId": "c5e98e33-714b-4c7e-8828-d4cb23d4825d"
      },
      "outputs": [
        {
          "output_type": "stream",
          "name": "stdout",
          "text": [
            "Total images: 11792\n",
            "Image sizes (Width, Height): {(53, 53), (45, 45), (58, 58), (133, 133), (123, 123), (66, 66), (50, 50), (129, 129), (127, 127), (90, 90), (38, 38), (89, 89), (39, 39), (179, 179), (35, 35), (101, 101), (27, 27), (155, 155), (93, 93), (74, 74), (28, 28), (36, 36), (119, 119), (137, 137), (330, 330), (42, 42), (284, 284), (82, 82), (98, 98), (30, 30), (46, 46), (158, 158), (338, 338), (31, 31), (97, 97), (81, 81), (47, 47), (224, 224), (32, 32), (107, 107), (115, 115), (141, 141), (71, 71), (121, 121), (135, 135), (120, 120), (125, 125), (131, 131), (67, 67), (124, 124), (132, 132), (95, 95), (126, 126), (130, 130), (113, 113), (79, 79), (143, 143), (128, 128), (112, 112), (25, 25), (29, 29), (37, 37), (118, 118), (138, 138), (105, 105), (87, 87), (151, 151), (104, 104), (136, 136), (33, 33), (109, 109), (83, 83), (117, 117), (147, 147), (139, 139), (75, 75), (148, 148), (116, 116), (108, 108), (70, 70), (140, 140), (56, 56), (69, 69), (59, 59), (307, 307), (60, 60), (68, 68), (62, 62), (78, 78), (178, 178), (63, 63), (65, 65), (64, 64), (48, 48), (26, 26), (102, 102), (173, 173), (88, 88), (152, 152), (86, 86), (54, 54), (170, 170), (92, 92), (100, 100), (73, 73), (55, 55), (156, 156), (168, 168), (72, 72), (40, 40), (299, 299), (146, 146), (110, 110), (34, 34), (94, 94), (80, 80), (96, 96), (43, 43), (51, 51), (122, 122), (85, 85), (77, 77), (563, 563), (76, 76), (52, 52), (44, 44), (84, 84), (57, 57), (134, 134), (145, 145), (61, 61), (114, 114), (142, 142), (49, 49), (103, 103), (153, 153), (99, 99), (91, 91), (106, 106), (150, 150), (41, 41), (111, 111)}\n"
          ]
        }
      ],
      "source": [
        "# check how many images and their sizes\n",
        "\n",
        "# obtain paths\n",
        "test_mask_path = './Face Mask Dataset/Test/WithMask'\n",
        "test_nomask_path = './Face Mask Dataset/Test/WithoutMask'\n",
        "train_mask_path = './Face Mask Dataset/Train/WithMask'\n",
        "train_nomask_path = './Face Mask Dataset/Train/WithoutMask'\n",
        "val_mask_path ='./Face Mask Dataset/Validation/WithMask'\n",
        "val_nomask_path = './Face Mask Dataset/Validation/WithoutMask'\n",
        "\n",
        "# os.listdir gets all files in a given path\n",
        "image_count = 0\n",
        "image_sizes = set()\n",
        "paths_list = [test_mask_path, test_nomask_path, train_mask_path, train_nomask_path, val_mask_path, val_nomask_path]\n",
        "\n",
        "#function to add width and height to image_sizes set\n",
        "#and returns the number of images\n",
        "def checkImages(path, image_sizes):\n",
        "  count = 0\n",
        "  for i in os.listdir(path):\n",
        "    count += 1\n",
        "    im = Image.open(os.path.abspath(path + \"/\" + i))\n",
        "    width, height = im.size\n",
        "    image_sizes.add((width, height))\n",
        "  return count\n",
        "\n",
        "for path in paths_list:\n",
        "  image_count += checkImages(path, image_sizes)\n",
        "\n",
        "#image_count = len(list(data_dir.glob('*/*.jpg')))\n",
        "print(\"Total images:\", image_count)\n",
        "print(\"Image sizes (Width, Height):\", image_sizes)"
      ]
    },
    {
      "cell_type": "code",
      "execution_count": 4,
      "metadata": {
        "id": "08f6K15KC60z",
        "colab": {
          "base_uri": "https://localhost:8080/",
          "height": 279
        },
        "outputId": "97bf265d-2b3f-497e-9b5a-07f80a5685d3"
      },
      "outputs": [
        {
          "output_type": "display_data",
          "data": {
            "text/plain": [
              "<PIL.PngImagePlugin.PngImageFile image mode=RGB size=168x168 at 0x7F45F834B310>"
            ],
            "image/png": "[encoded data removed]"
          },
          "metadata": {}
        },
        {
          "output_type": "display_data",
          "data": {
            "text/plain": [
              "<PIL.PngImagePlugin.PngImageFile image mode=RGB size=94x94 at 0x7F45F832D2D0>"
            ],
            "image/png": "[encoded data removed]"
          },
          "metadata": {}
        }
      ],
      "source": [
        "# view some example images\n",
        "mask_im = Image.open(os.path.abspath(test_mask_path + \"/1174.png\"))\n",
        "nomask_im = Image.open(os.path.abspath(test_nomask_path + \"/3006.png\"))\n",
        "display(mask_im)\n",
        "display(nomask_im)"
      ]
    },
    {
      "cell_type": "code",
      "execution_count": 6,
      "metadata": {
        "id": "jiruo74REYQ0",
        "colab": {
          "base_uri": "https://localhost:8080/"
        },
        "outputId": "4120d0a4-e902-4c3e-dc5a-8b1accf2d624"
      },
      "outputs": [
        {
          "output_type": "stream",
          "name": "stdout",
          "text": [
            "['Masked', 'Not masked']\n"
          ]
        }
      ],
      "source": [
        "# class names\n",
        "class_names = ['Masked', 'Not masked']\n",
        "print(class_names)"
      ]
    },
    {
      "cell_type": "code",
      "execution_count": 7,
      "metadata": {
        "id": "2P4ya7iO27Ve"
      },
      "outputs": [],
      "source": [
        "from tensorflow.keras.preprocessing.image import img_to_array\n",
        "\n",
        "def SetUpData(mask_path):\n",
        "  mask_list = []\n",
        "  mask_labels = []\n",
        "  for i in os.listdir(mask_path):\n",
        "    im = Image.open(os.path.abspath(mask_path + \"/\" + i))\n",
        "    width, height = im.size\n",
        "    if width >= 100 and height >= 100:\n",
        "      im = im.resize((100, 100))\n",
        "      # convert to numpy array\n",
        "      im = img_to_array(im)\n",
        "      mask_list.append(im)\n",
        "\n",
        "      append_label_value = -1\n",
        "      if 'WithoutMask' in mask_path:\n",
        "        append_label_value = 0\n",
        "      else:\n",
        "        append_label_value = 1\n",
        "      # -1 means error\n",
        "      #1 for mask\n",
        "      #0 for no mask\n",
        "      mask_labels.append(append_label_value)\n",
        "  return mask_list, mask_labels\n",
        "\n",
        "\n",
        "# set up data for training mask data\n",
        "# establish dataframe containing masked images and their targets\n",
        "train_mask_df = pd.DataFrame()\n",
        "train_mask_df['image'], train_mask_df['target'] = SetUpData(train_mask_path)\n",
        "\n",
        "\n",
        "# set up data for training nonmask data\n",
        "# establish dataframe containing nonmasked images and their targets\n",
        "train_nomask_df = pd.DataFrame()\n",
        "train_nomask_df['image'], train_nomask_df['target'] = SetUpData(train_nomask_path)\n",
        "\n",
        "\n",
        "# combine separate training dataframes and shuffle\n",
        "train_df = pd.concat([train_mask_df, train_nomask_df])\n",
        "train_df = shuffle(train_df)\n",
        "\n",
        "\n",
        "# set up data for testing mask data\n",
        "# establish dataframe containing masked images and their targets\n",
        "test_mask_df = pd.DataFrame()\n",
        "test_mask_df['image'], test_mask_df['target'] = SetUpData(test_mask_path)\n",
        "\n",
        "\n",
        "# set up data for testing nomask data\n",
        "# establish dataframe containing nonmasked images and their targets\n",
        "test_nomask_df = pd.DataFrame()\n",
        "test_nomask_df['image'], test_nomask_df['target'] = SetUpData(test_nomask_path)\n",
        "\n",
        "\n",
        "# combine separate testing dataframes and shuffle\n",
        "test_df = pd.concat([test_mask_df, test_nomask_df])\n",
        "test_df = shuffle(test_df)"
      ]
    },
    {
      "cell_type": "code",
      "source": [
        "train_df"
      ],
      "metadata": {
        "id": "xsbj3cryE2dS",
        "colab": {
          "base_uri": "https://localhost:8080/",
          "height": 424
        },
        "outputId": "004f2727-23e4-4345-d1ca-d03bc890e218"
      },
      "execution_count": 8,
      "outputs": [
        {
          "output_type": "execute_result",
          "data": {
            "text/plain": [
              "                                                  image  target\n",
              "3519  [[[223.0, 217.0, 215.0], [223.0, 217.0, 215.0]...       1\n",
              "2475  [[[160.0, 58.0, 54.0], [167.0, 53.0, 52.0], [1...       0\n",
              "1867  [[[60.0, 42.0, 33.0], [60.0, 42.0, 33.0], [60....       1\n",
              "1348  [[[242.0, 244.0, 229.0], [242.0, 244.0, 229.0]...       1\n",
              "1086  [[[34.0, 34.0, 21.0], [34.0, 34.0, 20.0], [34....       1\n",
              "...                                                 ...     ...\n",
              "1314  [[[253.0, 250.0, 246.0], [222.0, 214.0, 213.0]...       1\n",
              "2854  [[[232.0, 215.0, 198.0], [228.0, 212.0, 196.0]...       0\n",
              "465   [[[170.0, 209.0, 130.0], [172.0, 211.0, 132.0]...       0\n",
              "473   [[[107.0, 85.0, 61.0], [108.0, 85.0, 60.0], [1...       1\n",
              "3837  [[[202.0, 202.0, 190.0], [202.0, 202.0, 190.0]...       1\n",
              "\n",
              "[8020 rows x 2 columns]"
            ],
            "text/html": [
              "\n",
              "  <div id=\"df-c5ad1651-343d-4aba-9dbc-73d6ab82ed00\">\n",
              "    <div class=\"colab-df-container\">\n",
              "      <div>\n",
              "<style scoped>\n",
              "    .dataframe tbody tr th:only-of-type {\n",
              "        vertical-align: middle;\n",
              "    }\n",
              "\n",
              "    .dataframe tbody tr th {\n",
              "        vertical-align: top;\n",
              "    }\n",
              "\n",
              "    .dataframe thead th {\n",
              "        text-align: right;\n",
              "    }\n",
              "</style>\n",
              "<table border=\"1\" class=\"dataframe\">\n",
              "  <thead>\n",
              "    <tr style=\"text-align: right;\">\n",
              "      <th></th>\n",
              "      <th>image</th>\n",
              "      <th>target</th>\n",
              "    </tr>\n",
              "  </thead>\n",
              "  <tbody>\n",
              "    <tr>\n",
              "      <th>3519</th>\n",
              "      <td>[[[223.0, 217.0, 215.0], [223.0, 217.0, 215.0]...</td>\n",
              "      <td>1</td>\n",
              "    </tr>\n",
              "    <tr>\n",
              "      <th>2475</th>\n",
              "      <td>[[[160.0, 58.0, 54.0], [167.0, 53.0, 52.0], [1...</td>\n",
              "      <td>0</td>\n",
              "    </tr>\n",
              "    <tr>\n",
              "      <th>1867</th>\n",
              "      <td>[[[60.0, 42.0, 33.0], [60.0, 42.0, 33.0], [60....</td>\n",
              "      <td>1</td>\n",
              "    </tr>\n",
              "    <tr>\n",
              "      <th>1348</th>\n",
              "      <td>[[[242.0, 244.0, 229.0], [242.0, 244.0, 229.0]...</td>\n",
              "      <td>1</td>\n",
              "    </tr>\n",
              "    <tr>\n",
              "      <th>1086</th>\n",
              "      <td>[[[34.0, 34.0, 21.0], [34.0, 34.0, 20.0], [34....</td>\n",
              "      <td>1</td>\n",
              "    </tr>\n",
              "    <tr>\n",
              "      <th>...</th>\n",
              "      <td>...</td>\n",
              "      <td>...</td>\n",
              "    </tr>\n",
              "    <tr>\n",
              "      <th>1314</th>\n",
              "      <td>[[[253.0, 250.0, 246.0], [222.0, 214.0, 213.0]...</td>\n",
              "      <td>1</td>\n",
              "    </tr>\n",
              "    <tr>\n",
              "      <th>2854</th>\n",
              "      <td>[[[232.0, 215.0, 198.0], [228.0, 212.0, 196.0]...</td>\n",
              "      <td>0</td>\n",
              "    </tr>\n",
              "    <tr>\n",
              "      <th>465</th>\n",
              "      <td>[[[170.0, 209.0, 130.0], [172.0, 211.0, 132.0]...</td>\n",
              "      <td>0</td>\n",
              "    </tr>\n",
              "    <tr>\n",
              "      <th>473</th>\n",
              "      <td>[[[107.0, 85.0, 61.0], [108.0, 85.0, 60.0], [1...</td>\n",
              "      <td>1</td>\n",
              "    </tr>\n",
              "    <tr>\n",
              "      <th>3837</th>\n",
              "      <td>[[[202.0, 202.0, 190.0], [202.0, 202.0, 190.0]...</td>\n",
              "      <td>1</td>\n",
              "    </tr>\n",
              "  </tbody>\n",
              "</table>\n",
              "<p>8020 rows × 2 columns</p>\n",
              "</div>\n",
              "      <button class=\"colab-df-convert\" onclick=\"convertToInteractive('df-c5ad1651-343d-4aba-9dbc-73d6ab82ed00')\"\n",
              "              title=\"Convert this dataframe to an interactive table.\"\n",
              "              style=\"display:none;\">\n",
              "        \n",
              "  <svg xmlns=\"http://www.w3.org/2000/svg\" height=\"24px\"viewBox=\"0 0 24 24\"\n",
              "       width=\"24px\">\n",
              "    <path d=\"M0 0h24v24H0V0z\" fill=\"none\"/>\n",
              "    <path d=\"M18.56 5.44l.94 2.06.94-2.06 2.06-.94-2.06-.94-.94-2.06-.94 2.06-2.06.94zm-11 1L8.5 8.5l.94-2.06 2.06-.94-2.06-.94L8.5 2.5l-.94 2.06-2.06.94zm10 10l.94 2.06.94-2.06 2.06-.94-2.06-.94-.94-2.06-.94 2.06-2.06.94z\"/><path d=\"M17.41 7.96l-1.37-1.37c-.4-.4-.92-.59-1.43-.59-.52 0-1.04.2-1.43.59L10.3 9.45l-7.72 7.72c-.78.78-.78 2.05 0 2.83L4 21.41c.39.39.9.59 1.41.59.51 0 1.02-.2 1.41-.59l7.78-7.78 2.81-2.81c.8-.78.8-2.07 0-2.86zM5.41 20L4 18.59l7.72-7.72 1.47 1.35L5.41 20z\"/>\n",
              "  </svg>\n",
              "      </button>\n",
              "      \n",
              "  <style>\n",
              "    .colab-df-container {\n",
              "      display:flex;\n",
              "      flex-wrap:wrap;\n",
              "      gap: 12px;\n",
              "    }\n",
              "\n",
              "    .colab-df-convert {\n",
              "      background-color: #E8F0FE;\n",
              "      border: none;\n",
              "      border-radius: 50%;\n",
              "      cursor: pointer;\n",
              "      display: none;\n",
              "      fill: #1967D2;\n",
              "      height: 32px;\n",
              "      padding: 0 0 0 0;\n",
              "      width: 32px;\n",
              "    }\n",
              "\n",
              "    .colab-df-convert:hover {\n",
              "      background-color: #E2EBFA;\n",
              "      box-shadow: 0px 1px 2px rgba(60, 64, 67, 0.3), 0px 1px 3px 1px rgba(60, 64, 67, 0.15);\n",
              "      fill: #174EA6;\n",
              "    }\n",
              "\n",
              "    [theme=dark] .colab-df-convert {\n",
              "      background-color: #3B4455;\n",
              "      fill: #D2E3FC;\n",
              "    }\n",
              "\n",
              "    [theme=dark] .colab-df-convert:hover {\n",
              "      background-color: #434B5C;\n",
              "      box-shadow: 0px 1px 3px 1px rgba(0, 0, 0, 0.15);\n",
              "      filter: drop-shadow(0px 1px 2px rgba(0, 0, 0, 0.3));\n",
              "      fill: #FFFFFF;\n",
              "    }\n",
              "  </style>\n",
              "\n",
              "      <script>\n",
              "        const buttonEl =\n",
              "          document.querySelector('#df-c5ad1651-343d-4aba-9dbc-73d6ab82ed00 button.colab-df-convert');\n",
              "        buttonEl.style.display =\n",
              "          google.colab.kernel.accessAllowed ? 'block' : 'none';\n",
              "\n",
              "        async function convertToInteractive(key) {\n",
              "          const element = document.querySelector('#df-c5ad1651-343d-4aba-9dbc-73d6ab82ed00');\n",
              "          const dataTable =\n",
              "            await google.colab.kernel.invokeFunction('convertToInteractive',\n",
              "                                                     [key], {});\n",
              "          if (!dataTable) return;\n",
              "\n",
              "          const docLinkHtml = 'Like what you see? Visit the ' +\n",
              "            '<a target=\"_blank\" href=https://colab.research.google.com/notebooks/data_table.ipynb>data table notebook</a>'\n",
              "            + ' to learn more about interactive tables.';\n",
              "          element.innerHTML = '';\n",
              "          dataTable['output_type'] = 'display_data';\n",
              "          await google.colab.output.renderOutput(dataTable, element);\n",
              "          const docLink = document.createElement('div');\n",
              "          docLink.innerHTML = docLinkHtml;\n",
              "          element.appendChild(docLink);\n",
              "        }\n",
              "      </script>\n",
              "    </div>\n",
              "  </div>\n",
              "  "
            ]
          },
          "metadata": {},
          "execution_count": 8
        }
      ]
    },
    {
      "cell_type": "code",
      "source": [
        "test_df"
      ],
      "metadata": {
        "id": "4UUaEmJfFEPp",
        "colab": {
          "base_uri": "https://localhost:8080/",
          "height": 424
        },
        "outputId": "0ed10513-7826-48c3-d843-40339c01422a"
      },
      "execution_count": 9,
      "outputs": [
        {
          "output_type": "execute_result",
          "data": {
            "text/plain": [
              "                                                 image  target\n",
              "147  [[[35.0, 20.0, 23.0], [37.0, 22.0, 25.0], [40....       0\n",
              "41   [[[164.0, 102.0, 47.0], [166.0, 103.0, 49.0], ...       1\n",
              "325  [[[253.0, 253.0, 249.0], [252.0, 251.0, 247.0]...       0\n",
              "357  [[[33.0, 23.0, 21.0], [35.0, 26.0, 21.0], [36....       0\n",
              "104  [[[38.0, 31.0, 23.0], [41.0, 34.0, 26.0], [61....       0\n",
              "..                                                 ...     ...\n",
              "107  [[[15.0, 12.0, 7.0], [12.0, 9.0, 4.0], [5.0, 2...       0\n",
              "65   [[[105.0, 89.0, 89.0], [105.0, 89.0, 89.0], [1...       0\n",
              "27   [[[43.0, 39.0, 38.0], [14.0, 10.0, 9.0], [9.0,...       0\n",
              "28   [[[30.0, 13.0, 13.0], [24.0, 9.0, 9.0], [23.0,...       1\n",
              "262  [[[123.0, 119.0, 112.0], [89.0, 86.0, 81.0], [...       0\n",
              "\n",
              "[799 rows x 2 columns]"
            ],
            "text/html": [
              "\n",
              "  <div id=\"df-2cb658f8-99e4-4e0d-a3e3-5994733f8d31\">\n",
              "    <div class=\"colab-df-container\">\n",
              "      <div>\n",
              "<style scoped>\n",
              "    .dataframe tbody tr th:only-of-type {\n",
              "        vertical-align: middle;\n",
              "    }\n",
              "\n",
              "    .dataframe tbody tr th {\n",
              "        vertical-align: top;\n",
              "    }\n",
              "\n",
              "    .dataframe thead th {\n",
              "        text-align: right;\n",
              "    }\n",
              "</style>\n",
              "<table border=\"1\" class=\"dataframe\">\n",
              "  <thead>\n",
              "    <tr style=\"text-align: right;\">\n",
              "      <th></th>\n",
              "      <th>image</th>\n",
              "      <th>target</th>\n",
              "    </tr>\n",
              "  </thead>\n",
              "  <tbody>\n",
              "    <tr>\n",
              "      <th>147</th>\n",
              "      <td>[[[35.0, 20.0, 23.0], [37.0, 22.0, 25.0], [40....</td>\n",
              "      <td>0</td>\n",
              "    </tr>\n",
              "    <tr>\n",
              "      <th>41</th>\n",
              "      <td>[[[164.0, 102.0, 47.0], [166.0, 103.0, 49.0], ...</td>\n",
              "      <td>1</td>\n",
              "    </tr>\n",
              "    <tr>\n",
              "      <th>325</th>\n",
              "      <td>[[[253.0, 253.0, 249.0], [252.0, 251.0, 247.0]...</td>\n",
              "      <td>0</td>\n",
              "    </tr>\n",
              "    <tr>\n",
              "      <th>357</th>\n",
              "      <td>[[[33.0, 23.0, 21.0], [35.0, 26.0, 21.0], [36....</td>\n",
              "      <td>0</td>\n",
              "    </tr>\n",
              "    <tr>\n",
              "      <th>104</th>\n",
              "      <td>[[[38.0, 31.0, 23.0], [41.0, 34.0, 26.0], [61....</td>\n",
              "      <td>0</td>\n",
              "    </tr>\n",
              "    <tr>\n",
              "      <th>...</th>\n",
              "      <td>...</td>\n",
              "      <td>...</td>\n",
              "    </tr>\n",
              "    <tr>\n",
              "      <th>107</th>\n",
              "      <td>[[[15.0, 12.0, 7.0], [12.0, 9.0, 4.0], [5.0, 2...</td>\n",
              "      <td>0</td>\n",
              "    </tr>\n",
              "    <tr>\n",
              "      <th>65</th>\n",
              "      <td>[[[105.0, 89.0, 89.0], [105.0, 89.0, 89.0], [1...</td>\n",
              "      <td>0</td>\n",
              "    </tr>\n",
              "    <tr>\n",
              "      <th>27</th>\n",
              "      <td>[[[43.0, 39.0, 38.0], [14.0, 10.0, 9.0], [9.0,...</td>\n",
              "      <td>0</td>\n",
              "    </tr>\n",
              "    <tr>\n",
              "      <th>28</th>\n",
              "      <td>[[[30.0, 13.0, 13.0], [24.0, 9.0, 9.0], [23.0,...</td>\n",
              "      <td>1</td>\n",
              "    </tr>\n",
              "    <tr>\n",
              "      <th>262</th>\n",
              "      <td>[[[123.0, 119.0, 112.0], [89.0, 86.0, 81.0], [...</td>\n",
              "      <td>0</td>\n",
              "    </tr>\n",
              "  </tbody>\n",
              "</table>\n",
              "<p>799 rows × 2 columns</p>\n",
              "</div>\n",
              "      <button class=\"colab-df-convert\" onclick=\"convertToInteractive('df-2cb658f8-99e4-4e0d-a3e3-5994733f8d31')\"\n",
              "              title=\"Convert this dataframe to an interactive table.\"\n",
              "              style=\"display:none;\">\n",
              "        \n",
              "  <svg xmlns=\"http://www.w3.org/2000/svg\" height=\"24px\"viewBox=\"0 0 24 24\"\n",
              "       width=\"24px\">\n",
              "    <path d=\"M0 0h24v24H0V0z\" fill=\"none\"/>\n",
              "    <path d=\"M18.56 5.44l.94 2.06.94-2.06 2.06-.94-2.06-.94-.94-2.06-.94 2.06-2.06.94zm-11 1L8.5 8.5l.94-2.06 2.06-.94-2.06-.94L8.5 2.5l-.94 2.06-2.06.94zm10 10l.94 2.06.94-2.06 2.06-.94-2.06-.94-.94-2.06-.94 2.06-2.06.94z\"/><path d=\"M17.41 7.96l-1.37-1.37c-.4-.4-.92-.59-1.43-.59-.52 0-1.04.2-1.43.59L10.3 9.45l-7.72 7.72c-.78.78-.78 2.05 0 2.83L4 21.41c.39.39.9.59 1.41.59.51 0 1.02-.2 1.41-.59l7.78-7.78 2.81-2.81c.8-.78.8-2.07 0-2.86zM5.41 20L4 18.59l7.72-7.72 1.47 1.35L5.41 20z\"/>\n",
              "  </svg>\n",
              "      </button>\n",
              "      \n",
              "  <style>\n",
              "    .colab-df-container {\n",
              "      display:flex;\n",
              "      flex-wrap:wrap;\n",
              "      gap: 12px;\n",
              "    }\n",
              "\n",
              "    .colab-df-convert {\n",
              "      background-color: #E8F0FE;\n",
              "      border: none;\n",
              "      border-radius: 50%;\n",
              "      cursor: pointer;\n",
              "      display: none;\n",
              "      fill: #1967D2;\n",
              "      height: 32px;\n",
              "      padding: 0 0 0 0;\n",
              "      width: 32px;\n",
              "    }\n",
              "\n",
              "    .colab-df-convert:hover {\n",
              "      background-color: #E2EBFA;\n",
              "      box-shadow: 0px 1px 2px rgba(60, 64, 67, 0.3), 0px 1px 3px 1px rgba(60, 64, 67, 0.15);\n",
              "      fill: #174EA6;\n",
              "    }\n",
              "\n",
              "    [theme=dark] .colab-df-convert {\n",
              "      background-color: #3B4455;\n",
              "      fill: #D2E3FC;\n",
              "    }\n",
              "\n",
              "    [theme=dark] .colab-df-convert:hover {\n",
              "      background-color: #434B5C;\n",
              "      box-shadow: 0px 1px 3px 1px rgba(0, 0, 0, 0.15);\n",
              "      filter: drop-shadow(0px 1px 2px rgba(0, 0, 0, 0.3));\n",
              "      fill: #FFFFFF;\n",
              "    }\n",
              "  </style>\n",
              "\n",
              "      <script>\n",
              "        const buttonEl =\n",
              "          document.querySelector('#df-2cb658f8-99e4-4e0d-a3e3-5994733f8d31 button.colab-df-convert');\n",
              "        buttonEl.style.display =\n",
              "          google.colab.kernel.accessAllowed ? 'block' : 'none';\n",
              "\n",
              "        async function convertToInteractive(key) {\n",
              "          const element = document.querySelector('#df-2cb658f8-99e4-4e0d-a3e3-5994733f8d31');\n",
              "          const dataTable =\n",
              "            await google.colab.kernel.invokeFunction('convertToInteractive',\n",
              "                                                     [key], {});\n",
              "          if (!dataTable) return;\n",
              "\n",
              "          const docLinkHtml = 'Like what you see? Visit the ' +\n",
              "            '<a target=\"_blank\" href=https://colab.research.google.com/notebooks/data_table.ipynb>data table notebook</a>'\n",
              "            + ' to learn more about interactive tables.';\n",
              "          element.innerHTML = '';\n",
              "          dataTable['output_type'] = 'display_data';\n",
              "          await google.colab.output.renderOutput(dataTable, element);\n",
              "          const docLink = document.createElement('div');\n",
              "          docLink.innerHTML = docLinkHtml;\n",
              "          element.appendChild(docLink);\n",
              "        }\n",
              "      </script>\n",
              "    </div>\n",
              "  </div>\n",
              "  "
            ]
          },
          "metadata": {},
          "execution_count": 9
        }
      ]
    },
    {
      "cell_type": "code",
      "execution_count": 10,
      "metadata": {
        "id": "DajuyY7pqZl7"
      },
      "outputs": [],
      "source": [
        "# creating the model\n",
        "train_model = Sequential([\n",
        "  layers.Rescaling(1./255, input_shape=(100, 100, 3)),\n",
        "  layers.Conv2D(16, 3, padding='same', activation='relu'),\n",
        "  layers.MaxPooling2D(),\n",
        "  layers.Conv2D(32, 3, padding='same', activation='relu'),\n",
        "  layers.MaxPooling2D(),\n",
        "  layers.Conv2D(64, 3, padding='same', activation='relu'),\n",
        "  layers.MaxPooling2D(),\n",
        "  layers.Flatten(),\n",
        "  layers.Dense(128, activation='relu'),\n",
        "  layers.Dense(1, activation='sigmoid'),\n",
        "])"
      ]
    },
    {
      "cell_type": "code",
      "execution_count": 11,
      "metadata": {
        "id": "qnONIq8OJZra"
      },
      "outputs": [],
      "source": [
        "# compiling the model\n",
        "train_model.compile(optimizer='adam',\n",
        "              loss='binary_crossentropy',\n",
        "              metrics=['accuracy'])"
      ]
    },
    {
      "cell_type": "code",
      "execution_count": 12,
      "metadata": {
        "id": "IH4svrINJm84",
        "colab": {
          "base_uri": "https://localhost:8080/"
        },
        "outputId": "c620535e-7f66-49dd-a7b7-b11bb522ad74"
      },
      "outputs": [
        {
          "output_type": "stream",
          "name": "stdout",
          "text": [
            "Model: \"sequential\"\n",
            "_________________________________________________________________\n",
            " Layer (type)                Output Shape              Param #   \n",
            "=================================================================\n",
            " rescaling (Rescaling)       (None, 100, 100, 3)       0         \n",
            "                                                                 \n",
            " conv2d (Conv2D)             (None, 100, 100, 16)      448       \n",
            "                                                                 \n",
            " max_pooling2d (MaxPooling2D  (None, 50, 50, 16)       0         \n",
            " )                                                               \n",
            "                                                                 \n",
            " conv2d_1 (Conv2D)           (None, 50, 50, 32)        4640      \n",
            "                                                                 \n",
            " max_pooling2d_1 (MaxPooling  (None, 25, 25, 32)       0         \n",
            " 2D)                                                             \n",
            "                                                                 \n",
            " conv2d_2 (Conv2D)           (None, 25, 25, 64)        18496     \n",
            "                                                                 \n",
            " max_pooling2d_2 (MaxPooling  (None, 12, 12, 64)       0         \n",
            " 2D)                                                             \n",
            "                                                                 \n",
            " flatten (Flatten)           (None, 9216)              0         \n",
            "                                                                 \n",
            " dense (Dense)               (None, 128)               1179776   \n",
            "                                                                 \n",
            " dense_1 (Dense)             (None, 1)                 129       \n",
            "                                                                 \n",
            "=================================================================\n",
            "Total params: 1,203,489\n",
            "Trainable params: 1,203,489\n",
            "Non-trainable params: 0\n",
            "_________________________________________________________________\n"
          ]
        }
      ],
      "source": [
        "train_model.summary()"
      ]
    },
    {
      "cell_type": "code",
      "source": [
        "train_image_array = np.stack(np.asarray(train_df[\"image\"]))\n",
        "test_image_array = np.stack(np.asarray(test_df[\"image\"]))\n",
        "train_target_array = np.asarray(train_df[\"target\"])\n",
        "test_target_array = np.asarray(test_df[\"target\"])"
      ],
      "metadata": {
        "id": "abzovF-pQSWD"
      },
      "execution_count": 13,
      "outputs": []
    },
    {
      "cell_type": "code",
      "source": [
        "print(train_image_array.shape)"
      ],
      "metadata": {
        "id": "ICkQQDdyRUuJ",
        "colab": {
          "base_uri": "https://localhost:8080/"
        },
        "outputId": "b89d940d-23df-407d-b5be-028fd7df17fe"
      },
      "execution_count": 14,
      "outputs": [
        {
          "output_type": "stream",
          "name": "stdout",
          "text": [
            "(8020, 100, 100, 3)\n"
          ]
        }
      ]
    },
    {
      "cell_type": "code",
      "source": [
        "fitted_Model = train_model.fit(train_image_array, train_target_array, validation_split=0.15, batch_size=10, epochs=10)"
      ],
      "metadata": {
        "id": "wifz3SUA3GQl",
        "colab": {
          "base_uri": "https://localhost:8080/"
        },
        "outputId": "8acd0b35-e486-471f-b831-54932a070065"
      },
      "execution_count": 15,
      "outputs": [
        {
          "output_type": "stream",
          "name": "stdout",
          "text": [
            "Epoch 1/10\n",
            "682/682 [==============================] - 77s 112ms/step - loss: 0.1100 - accuracy: 0.9557 - val_loss: 0.0505 - val_accuracy: 0.9751\n",
            "Epoch 2/10\n",
            "682/682 [==============================] - 77s 112ms/step - loss: 0.0422 - accuracy: 0.9847 - val_loss: 0.0312 - val_accuracy: 0.9900\n",
            "Epoch 3/10\n",
            "682/682 [==============================] - 76s 111ms/step - loss: 0.0341 - accuracy: 0.9880 - val_loss: 0.0283 - val_accuracy: 0.9875\n",
            "Epoch 4/10\n",
            "682/682 [==============================] - 78s 115ms/step - loss: 0.0247 - accuracy: 0.9908 - val_loss: 0.0346 - val_accuracy: 0.9892\n",
            "Epoch 5/10\n",
            "682/682 [==============================] - 76s 111ms/step - loss: 0.0163 - accuracy: 0.9937 - val_loss: 0.0324 - val_accuracy: 0.9900\n",
            "Epoch 6/10\n",
            "682/682 [==============================] - 75s 110ms/step - loss: 0.0177 - accuracy: 0.9944 - val_loss: 0.0372 - val_accuracy: 0.9909\n",
            "Epoch 7/10\n",
            "682/682 [==============================] - 76s 111ms/step - loss: 0.0153 - accuracy: 0.9946 - val_loss: 0.0547 - val_accuracy: 0.9850\n",
            "Epoch 8/10\n",
            "682/682 [==============================] - 74s 109ms/step - loss: 0.0150 - accuracy: 0.9953 - val_loss: 0.0460 - val_accuracy: 0.9900\n",
            "Epoch 9/10\n",
            "682/682 [==============================] - 75s 110ms/step - loss: 0.0153 - accuracy: 0.9950 - val_loss: 0.0355 - val_accuracy: 0.9917\n",
            "Epoch 10/10\n",
            "682/682 [==============================] - 76s 112ms/step - loss: 0.0076 - accuracy: 0.9977 - val_loss: 0.0413 - val_accuracy: 0.9933\n"
          ]
        }
      ]
    },
    {
      "cell_type": "code",
      "execution_count": 16,
      "metadata": {
        "id": "0VXY8CWvqbZD",
        "colab": {
          "base_uri": "https://localhost:8080/"
        },
        "outputId": "ca38aa41-db26-4ffe-ad46-a11d24f56f6f"
      },
      "outputs": [
        {
          "output_type": "stream",
          "name": "stdout",
          "text": [
            "251/251 [==============================] - 28s 112ms/step\n",
            "25/25 [==============================] - 2s 88ms/step\n",
            "Training performance:\n",
            "               precision    recall  f1-score   support\n",
            "\n",
            "           0       1.00      1.00      1.00      3611\n",
            "           1       1.00      1.00      1.00      4409\n",
            "\n",
            "    accuracy                           1.00      8020\n",
            "   macro avg       1.00      1.00      1.00      8020\n",
            "weighted avg       1.00      1.00      1.00      8020\n",
            "\n",
            "Testing performance:\n",
            "               precision    recall  f1-score   support\n",
            "\n",
            "           0       0.99      0.99      0.99       372\n",
            "           1       1.00      0.99      0.99       427\n",
            "\n",
            "    accuracy                           0.99       799\n",
            "   macro avg       0.99      0.99      0.99       799\n",
            "weighted avg       0.99      0.99      0.99       799\n",
            "\n"
          ]
        }
      ],
      "source": [
        "## evaluate model to compare training vs. test error\n",
        "from sklearn.metrics import classification_report\n",
        "\n",
        "yhat_train = train_model.predict(train_image_array)\n",
        "yhat_train = [1 if y>=0.5 else 0 for y in yhat_train]\n",
        "yhat_test = train_model.predict(test_image_array)\n",
        "yhat_test = [1 if y>=0.5 else 0 for y in yhat_test]\n",
        "\n",
        "print(\"Training performance:\\n %s\" % classification_report(train_target_array, yhat_train))\n",
        "\n",
        "print(\"Testing performance:\\n %s\" % classification_report(test_target_array, yhat_test))\n"
      ]
    },
    {
      "cell_type": "code",
      "source": [
        "# Evaluation Graph\n",
        "import matplotlib.pyplot as plt\n",
        "\n",
        "plt.plot(fitted_Model.history['accuracy'], label='accuracy')\n",
        "plt.plot(fitted_Model.history['val_accuracy'], label = 'val_accuracy')\n",
        "plt.xlabel('Epoch')\n",
        "plt.ylabel('Accuracy')\n",
        "plt.ylim([0.5, 1.5])\n",
        "plt.legend(loc='lower right')\n",
        "\n",
        "test_loss, test_acc = train_model.evaluate(test_image_array, test_target_array)"
      ],
      "metadata": {
        "id": "ObROKaAdK3JI",
        "colab": {
          "base_uri": "https://localhost:8080/",
          "height": 296
        },
        "outputId": "e2ef23ab-6cff-4692-926e-d674d112ef0a"
      },
      "execution_count": 18,
      "outputs": [
        {
          "output_type": "stream",
          "name": "stdout",
          "text": [
            "25/25 [==============================] - 2s 87ms/step - loss: 0.0371 - accuracy: 0.9937\n"
          ]
        },
        {
          "output_type": "display_data",
          "data": {
            "text/plain": [
              "<Figure size 432x288 with 1 Axes>"
            ],
            "image/png": "[encoded data removed]"
          },
          "metadata": {
            "needs_background": "light"
          }
        }
      ]
    },
    {
      "cell_type": "code",
      "source": [
        "# Fitting Graph\n",
        "# should show test not val_accuracy\n",
        "\n",
        "# do model.evaluate() on your test\n",
        "#tensorflow -> make more models https://www.tensorflow.org/tutorials/keras/classification https://www.tensorflow.org/tutorials/images/classification"
      ],
      "metadata": {
        "id": "SPM_Ua4IXUPE"
      },
      "execution_count": null,
      "outputs": []
    }
  ],
  "metadata": {
    "colab": {
      "provenance": []
    },
    "kernelspec": {
      "display_name": "Python 3",
      "name": "python3"
    },
    "language_info": {
      "name": "python"
    }
  },
  "nbformat": 4,
  "nbformat_minor": 0
}
